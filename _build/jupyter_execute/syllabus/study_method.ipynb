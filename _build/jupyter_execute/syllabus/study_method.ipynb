{
 "cells": [
  {
   "cell_type": "markdown",
   "metadata": {},
   "source": [
    "# Come Studiare\n",
    "\n",
    "## Flip Teaching\n",
    "\n",
    "Durante questo Laboratorio, adotteremo la metodologia didattica nota come flipped teaching. Questa modalità prevede due fasi distinte: nella prima fase, gli studenti studieranno autonomamente i materiali didattici assegnati, disponibili sul sito dedicato, prima di ogni incontro. Nella seconda fase, durante gli incontri in presenza, gli studenti parteciperanno ad attività di discussione, esercitazioni e approfondimenti sugli argomenti trattati. Questo approccio permette agli studenti di consolidare e approfondire i concetti appresi, favorendo un apprendimento esperienziale.\n",
    "\n",
    "Per ogni incontro del Laboratorio, gli studenti dovranno prepararsi svolgendo il problema assegnato. Durante gli incontri del Laboratorio, sarà richiesta la loro partecipazione attiva alla discussione, e sarà necessario avere un computer per svolgere attività pratiche in R. Questo creerà un ambiente di apprendimento interattivo e promuoverà la risoluzione cooperativa dei problemi.\n",
    "\n",
    "La suddivisione degli studenti in gruppi e la valutazione delle attività di gruppo favoriranno lo sviluppo delle capacità di lavoro in team. Inoltre, questo offrirà agli studenti l'opportunità di supportarsi reciprocamente, facilitando l'apprendimento. Fornire chiarimenti ai membri del proprio gruppo che hanno difficoltà è un potente strumento per consolidare la propria preparazione.\n",
    "\n",
    "## Forum Moodle\n",
    "\n",
    "Il Forum Moodle è una risorsa essenziale per la preparazione dell'esame. Gli studenti possono utilizzare questo strumento per porre domande o chiarire eventuali dubbi sul materiale assegnato. Sebbene io intervenga occasionalmente per fornire chiarimenti, il focus principale sarà sulla partecipazione attiva degli studenti. Gli studenti saranno incoraggiati a rispondere ai dubbi dei loro compagni, promuovendo la discussione e lo scambio di idee. Questo approccio favorisce l'apprendimento cooperativo e permette agli studenti di consolidare le proprie conoscenze attraverso il confronto critico con i propri colleghi.\n"
   ]
  }
 ],
 "metadata": {
  "language_info": {
   "name": "python"
  }
 },
 "nbformat": 4,
 "nbformat_minor": 2
}