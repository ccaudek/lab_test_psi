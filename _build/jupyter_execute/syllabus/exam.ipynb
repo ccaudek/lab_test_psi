{
 "cells": [
  {
   "attachments": {},
   "cell_type": "markdown",
   "metadata": {},
   "source": [
    "# Procedure di Valutazione dell'Apprendimento\n",
    "\n",
    "Il programma dell'esame è identico per gli studenti frequentanti e non frequentanti.\n",
    "\n",
    "## Studenti Frequentanti\n",
    "\n",
    "Gli studenti _frequentanti_ devono soddisfare i seguenti requisiti:\n",
    "\n",
    "1. Partecipare ad almeno l'80% delle lezioni. La presenza sarà registrata accedendo a un modulo durante l'orario della lezione, utilizzando la password fornita di volta in volta in aula.\n",
    "2. Consegnare _tutti_ i report in itinere assegnati entro le relative scadenze, ottenendo un giudizio positivo su ciascuno di essi.\n",
    "3. Completare le attività di un progetto di gruppo, che includono la stesura e la presentazione orale di un lavoro sulla costruzione e validazione di un test psicometrico.\n",
    "\n",
    "Gli studenti frequentanti saranno suddivisi in 10 gruppi. Ogni incontro del Laboratorio di Testing Psicologico affronterà un problema specifico relativo alla costruzione/validazione di un reattivo psicometrico. I materiali didattici e i dati necessari saranno forniti in anticipo. Gli incontri in presenza saranno dedicati alla discussione e correzione dei lavori consegnati dagli studenti. Durante ogni lezione, verranno discussi i report sull'argomento corrente di 3 o 4 gruppi selezionati casualmente. Le prestazioni di ciascun gruppo esaminato verranno valutate e la media di tali valutazioni corrisponderà al 50% del voto finale del gruppo.\n",
    "\n",
    "Gli ultimi due incontri saranno dedicati alla presentazione di un progetto di gruppo su un questionario diverso da quello discusso durante l'insegnamento. La valutazione della presentazione del progetto di gruppo costituirà il restante 50% del voto finale del gruppo.\n",
    "\n",
    "Inoltre, verranno assegnati 2 punti bonus a chi parteciperà a un'esperienza di laboratorio online (circa 5 ore di impegno). La partecipazione non è obbligatoria e non influenzerà il punteggio massimo ottenibile all'esame, ma rappresenta un'opportunità per ottenere un punteggio più alto e acquisire una comprensione pratica di un progetto di ricerca psicologico. Durante l'esperienza di laboratorio, verranno utilizzate tecniche di analisi statistica per individuare eventuali comportamenti di risposte non curanti nei dati raccolti. Se verranno riscontrati comportamenti scorretti, come il cheating, gli studenti non avranno accesso ai 2 punti bonus e saranno sottoposti a un'integrazione orale obbligatoria per superare l'esame.\n",
    "\n",
    "È importante notare che, negli anni accademici precedenti, la quasi totalità degli studenti ha scelto la modalità d'esame riservata ai frequentanti, ottenendo un esito positivo.\n",
    "\n",
    "```{tip}\n",
    "Gli studenti frequentanti che supereranno l'esame **dovranno** iscriversi al primo appello utile d'esame. Una volta iscritti, non dovranno compiere ulteriori azioni poiché la verbalizzazione e l'inserimento del voto saranno a cura del docente.\n",
    "```\n",
    "\n",
    "## Studenti Non Frequentanti\n",
    "\n",
    "Gli studenti non frequentanti svolgeranno un esame durante le sessioni ufficiali degli esami. L'esame avrà la durata di un'ora e consisterà nella stesura di un report volto alla validazione di un questionario psicometrico. Il report dovrà essere consegnato sotto forma di un file Rmarkdown che includa sia il codice R che la spiegazione testuale del codice e dei risultati ottenuti. L'esame sarà a libri chiusi e i dati da analizzare saranno forniti in aula.\n",
    "\n",
    "```{warning}\n",
    "Per partecipare all'esame, gli studenti devono portare con sé un computer portatile alla Torretta il giorno previsto per l'esame, come richiesto anche agli studenti frequentanti.\n",
    "```"
   ]
  },
  {
   "cell_type": "markdown",
   "metadata": {},
   "source": []
  }
 ],
 "metadata": {
  "kernelspec": {
   "display_name": "Python 3",
   "language": "python",
   "name": "python3"
  },
  "language_info": {
   "name": "python",
   "version": "3.8.10 (default, Jun  2 2021, 07:05:41) \n[Clang 12.0.5 (clang-1205.0.22.9)]"
  },
  "vscode": {
   "interpreter": {
    "hash": "c300c63927c1d487b2df0ca7f55d9699efd42c18a65d5b05a5383e492fa5764c"
   }
  }
 },
 "nbformat": 4,
 "nbformat_minor": 2
}