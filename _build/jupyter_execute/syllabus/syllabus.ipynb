{
 "cells": [
  {
   "cell_type": "markdown",
   "metadata": {},
   "source": [
    "# Syllabus\n",
    "\n",
    "## Descrizione sintetica\n",
    "\n",
    "Questo laboratorio, rivolto agli studenti di laurea magistrale, si focalizza sulle competenze teorico-pratiche per la costruzione e validazione di un reattivo psicometrico. Il corso consisterà in una serie di esercitazioni pratiche utilizzando il software open source R per l'analisi dei dati.\n",
    "\n",
    "## Obiettivi di Apprendimento\n",
    "\n",
    "Dopo aver completato con successo questo Laboratorio, gli studenti saranno in grado di:\n",
    "\n",
    "- Utilizzare il software R per l'analisi dei dati psicometrici.\n",
    "- Riconoscere variazioni, distribuzioni e pattern di risposta insoliti negli item.\n",
    "- Valutare la coerenza e la formazione di scale unidimensionali o multidimensionali.\n",
    "- Analizzare la misurazione additiva e la difficoltà degli item.\n",
    "- Applicare concetti di algebra lineare nelle analisi psicometriche.\n",
    "- Determinare il numero ottimale di dimensioni e la struttura di un test psicometrico.\n",
    "- Valutare l'affidabilità delle scale e l'associazione degli item con il punteggio totale.\n",
    "- Analizzare la distribuzione dei punteggi totali e identificare effetti di soffitto o pavimento.\n",
    "- Utilizzare modelli di equazioni strutturali (SEM) per la validazione dei costrutti.\n",
    "- Sviluppare e presentare progetti sulla validazione di reattivi psicometrici.\n",
    "\n",
    "\n",
    "## Prerequisiti\n",
    "\n",
    "È richiesta una conoscenza di base dell'analisi statistica applicata alla psicologia, inclusi i concetti fondamentali della teoria delle probabilità e del modello di regressione lineare. Si consiglia di consultare i corsi di [Psicometria](https://ccaudek.github.io/ds4p/intro.html) e di [Testing Psicologico](https://ccaudek.github.io/psy_test/intro.html).\n",
    "\n",
    "## Ulteriori informazioni\n",
    "\n",
    "### Ricevimento\n",
    "\n",
    "Data la mia presenza in diversi corsi durante il semestre, non sarà possibile rispondere alle domande in aula dopo le lezioni. Tuttavia, sono disponibile tramite Moodle per organizzare incontri di gruppo su Google Meet, per rispondere alle vostre domande e fornire chiarimenti.\n",
    "\n",
    "### Comportamento in aula\n",
    "\n",
    "La partecipazione attiva e il rispetto reciproco sono fondamentali. Incoraggio gli studenti a contribuire alle discussioni, offrendo punti di vista differenti e mettendo in discussione le idee degli altri, comprese le mie, in modo rispettoso e costruttivo.\n",
    "\n",
    "### Norme relative all’uso della posta elettronica\n",
    "\n",
    "Prima di inviare una richiesta via e-mail, consultate il sito web del corso per verificare se le informazioni cercate sono già disponibili. Per organizzare un incontro, inviatemi un messaggio tramite Moodle. Preferisco pianificare incontri di gruppo, ma possiamo concordare appuntamenti individuali se necessario.\n",
    "\n",
    "### Politica sulla disonestà accademica\n",
    "\n",
    "L'integrità accademica è essenziale. Qualsiasi forma di comportamento disonesto, come l'uso di aiuti non autorizzati o il plagio, sarà sanzionata secondo le politiche accademiche in vigore.\n",
    "\n",
    "### Politica sulle disabilità\n",
    "\n",
    "Gli studenti con bisogni educativi speciali sono invitati a comunicarmelo in modo confidenziale il prima possibile. Rispetto pienamente il diritto alla privacy in materia.\n",
    "\n",
    "### Considerazioni finali\n",
    "\n",
    "Il successo nel corso dipende principalmente dall'impegno degli studenti. Non esitate a chiedere aiuto ai compagni di classe o a me per chiarimenti su ciò che non avete compreso."
   ]
  }
 ],
 "metadata": {
  "language_info": {
   "name": "python"
  }
 },
 "nbformat": 4,
 "nbformat_minor": 2
}