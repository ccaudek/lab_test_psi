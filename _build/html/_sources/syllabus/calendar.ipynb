{
 "cells": [
  {
   "cell_type": "markdown",
   "metadata": {},
   "source": [
    "# Calendario Attività Didattiche\n",
    "\n",
    "In questo programma viene fornito un calendario dettagliato delle attività didattiche per l'insegnamento \"Laboratorio di Testing Psicologico\" (6 CFU). Per ottimizzare l'apprendimento e aderire al modello della *flipped classroom*, gli studenti sono invitati a seguire i seguenti passaggi prima di ogni lezione:\n",
    "\n",
    "1. **Studio dei Materiali Didattici:**\n",
    "   - Gli studenti devono leggere attentamente i materiali didattici forniti prima di ogni incontro del Laboratorio. Questo approccio consente loro di arrivare preparati, con una base di conoscenza che facilita un apprendimento più approfondito durante la discussione in classe.\n",
    "\n",
    "2. **Svolgimento dei Problemi Assegnati:**\n",
    "   - Gli studenti sono tenuti a completare un report sul problema assegnato, che verrà poi valutato e discusso in classe. Questo esercizio di pratica indipendente permette di consolidare la comprensione delle tecniche e degli strumenti trattati, rendendo l'incontro successivo in presenza più efficace e interattivo.\n",
    "\n",
    "Seguendo questa struttura, gli studenti possono massimizzare i benefici degli incontri in presenza, approfondendo la loro comprensione teorica e pratica degli argomenti trattati. L'approccio dell'insegnamento capovolto mira a rendere gli incontri del Laboratorio più dinamici, interattivi e focalizzati sulla risoluzione di problemi concreti e sulla discussione di concetti complessi."
   ]
  },
  {
   "cell_type": "markdown",
   "metadata": {},
   "source": [
    "## Lezioni"
   ]
  },
  {
   "cell_type": "markdown",
   "metadata": {},
   "source": [
    "# Calendario del Corso\n",
    "\n",
    "|   #  | Argomenti                                                         |\n",
    "|:---: | ------------------------------------------------------- |\n",
    "|  1   | Presentazione dell'insegnamento; Introduzione a R       |\n",
    "|  2   | Statistiche descrittive: item senza/pochissima variazione? Differenze tra gli item riguardo alle loro distribuzioni? Correlazioni negative tra gli item? Ci sono rispondenti con pattern di risposta insoliti? |\n",
    "|  3-4 | IRT non parametrico: Gli item formano una singola scala? Quanti e quali rispondenti hanno pattern di risposta idiosincratici? La scala è uni- o multidimensionale? Gli item sono associati solo tramite la dimensione latente? La probabilità di dare una risposta 'corretta' aumenta con l'aumento dei livelli della dimensione latente? L'ordine di 'difficoltà/intensità' degli item è invariato a tutti i livelli della dimensione latente? |\n",
    "|  5-6 | IRT parametrico: Gli item formano una scala che soddisfa i requisiti della misurazione additiva? Qual è l'ordine di difficoltà degli item? Ci sono livelli del continuum latente con troppi/pochi item? Le associazioni tra gli item sono spiegate solo dalla dimensione latente? Quanti e quali rispondenti hanno pattern di risposta che non si adattano al modello? Quanto bene la scala riesce a differenziare i rispondenti in base ai loro livelli di abilità? La difficoltà degli item corrisponde all'abilità del campione? |\n",
    "|  7   | Elementi di algebra lineare |\n",
    "|  8   | Analisi fattoriale: Qual è il numero ottimale di dimensioni? I dati sono coerenti con la struttura della scala ipotizzata? |\n",
    "|  9   | Teoria Classica dei Test (CTT): La (sotto)scala è affidabile? Gli item sono associati al punteggio totale? La loro esclusione migliorerebbe l'affidabilità? |\n",
    "|  10  | Punteggi totali: I punteggi totali mostrano la distribuzione attesa? Ci sono effetti di soffitto/pavimento? |\n",
    "| 11-12| Validazione della rete nomologica dei costrutti; Metodologia delle SEM (Structural Equation Modeling) |\n",
    "|  13  | *Presentazione dei progetti di gruppo* |\n",
    "|  14  | *Presentazione dei progetti di gruppo* |"
   ]
  },
  {
   "cell_type": "markdown",
   "metadata": {},
   "source": [
    "```{warning}\n",
    "Il presente calendario **non è definitivo** e potrà subire delle variazioni che saranno comunicate mediante l'aggiornamento di questa pagina web.\n",
    "```"
   ]
  }
 ],
 "metadata": {
  "kernelspec": {
   "display_name": "pymc",
   "language": "python",
   "name": "python3"
  },
  "language_info": {
   "codemirror_mode": {
    "name": "ipython",
    "version": 3
   },
   "file_extension": ".py",
   "mimetype": "text/x-python",
   "name": "python",
   "nbconvert_exporter": "python",
   "pygments_lexer": "ipython3",
   "version": "3.11.4"
  },
  "orig_nbformat": 4,
  "vscode": {
   "interpreter": {
    "hash": "030ae53b1150d0ca6a72bb4a7a0454cbd9dab0eb2818ba119bbca0111e46e432"
   }
  }
 },
 "nbformat": 4,
 "nbformat_minor": 2
}
